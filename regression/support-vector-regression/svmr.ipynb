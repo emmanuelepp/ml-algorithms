{
 "cells": [
  {
   "cell_type": "markdown",
   "metadata": {},
   "source": [
    "Data preprocessing"
   ]
  },
  {
   "cell_type": "code",
   "execution_count": 418,
   "metadata": {},
   "outputs": [],
   "source": [
    "#Importing libraries\n",
    "import numpy as np\n",
    "import pandas as pd\n",
    "import matplotlib.pyplot as plt\n",
    "\n",
    "from sklearn.preprocessing import StandardScaler\n",
    "from sklearn.svm import SVR"
   ]
  },
  {
   "cell_type": "code",
   "execution_count": 419,
   "metadata": {},
   "outputs": [],
   "source": [
    "#Import dataset\n",
    "dataset = pd.read_csv(\"age_height.csv\")"
   ]
  },
  {
   "cell_type": "code",
   "execution_count": 420,
   "metadata": {},
   "outputs": [
    {
     "data": {
      "text/html": [
       "<div>\n",
       "<style scoped>\n",
       "    .dataframe tbody tr th:only-of-type {\n",
       "        vertical-align: middle;\n",
       "    }\n",
       "\n",
       "    .dataframe tbody tr th {\n",
       "        vertical-align: top;\n",
       "    }\n",
       "\n",
       "    .dataframe thead th {\n",
       "        text-align: right;\n",
       "    }\n",
       "</style>\n",
       "<table border=\"1\" class=\"dataframe\">\n",
       "  <thead>\n",
       "    <tr style=\"text-align: right;\">\n",
       "      <th></th>\n",
       "      <th>Age</th>\n",
       "      <th>Height</th>\n",
       "    </tr>\n",
       "  </thead>\n",
       "  <tbody>\n",
       "    <tr>\n",
       "      <th>0</th>\n",
       "      <td>10</td>\n",
       "      <td>138</td>\n",
       "    </tr>\n",
       "    <tr>\n",
       "      <th>1</th>\n",
       "      <td>11</td>\n",
       "      <td>138</td>\n",
       "    </tr>\n",
       "    <tr>\n",
       "      <th>2</th>\n",
       "      <td>12</td>\n",
       "      <td>138</td>\n",
       "    </tr>\n",
       "    <tr>\n",
       "      <th>3</th>\n",
       "      <td>13</td>\n",
       "      <td>139</td>\n",
       "    </tr>\n",
       "    <tr>\n",
       "      <th>4</th>\n",
       "      <td>14</td>\n",
       "      <td>139</td>\n",
       "    </tr>\n",
       "  </tbody>\n",
       "</table>\n",
       "</div>"
      ],
      "text/plain": [
       "   Age  Height\n",
       "0   10     138\n",
       "1   11     138\n",
       "2   12     138\n",
       "3   13     139\n",
       "4   14     139"
      ]
     },
     "execution_count": 420,
     "metadata": {},
     "output_type": "execute_result"
    }
   ],
   "source": [
    "dataset.head()"
   ]
  },
  {
   "cell_type": "code",
   "execution_count": 421,
   "metadata": {},
   "outputs": [],
   "source": [
    "#matrix of features-independent variable\n",
    "x = dataset.iloc[:, 0:1].values"
   ]
  },
  {
   "cell_type": "code",
   "execution_count": 422,
   "metadata": {},
   "outputs": [],
   "source": [
    "y = dataset.iloc[:, -1].values"
   ]
  },
  {
   "cell_type": "code",
   "execution_count": 423,
   "metadata": {},
   "outputs": [
    {
     "data": {
      "text/plain": [
       "(71,)"
      ]
     },
     "execution_count": 423,
     "metadata": {},
     "output_type": "execute_result"
    }
   ],
   "source": [
    "y.shape"
   ]
  },
  {
   "cell_type": "code",
   "execution_count": 424,
   "metadata": {},
   "outputs": [],
   "source": [
    "#number of rows, number of columns \n",
    "y = y.reshape(71,1)"
   ]
  },
  {
   "cell_type": "code",
   "execution_count": 425,
   "metadata": {},
   "outputs": [
    {
     "data": {
      "text/plain": [
       "(71, 1)"
      ]
     },
     "execution_count": 425,
     "metadata": {},
     "output_type": "execute_result"
    }
   ],
   "source": [
    "y.shape"
   ]
  },
  {
   "cell_type": "code",
   "execution_count": 426,
   "metadata": {},
   "outputs": [],
   "source": [
    "#Featuring scaling\n",
    "standardscaler_x = StandardScaler()\n",
    "standardscaler_y = StandardScaler()"
   ]
  },
  {
   "cell_type": "code",
   "execution_count": 427,
   "metadata": {},
   "outputs": [],
   "source": [
    "x = standardscaler_x.fit_transform(x.reshape(-1,1))\n",
    "y = standardscaler_y.fit_transform(y)"
   ]
  },
  {
   "cell_type": "code",
   "execution_count": 428,
   "metadata": {},
   "outputs": [
    {
     "name": "stdout",
     "output_type": "stream",
     "text": [
      "[[-1.70782513]\n",
      " [-1.65903012]\n",
      " [-1.61023512]\n",
      " [-1.56144012]\n",
      " [-1.51264511]\n",
      " [-1.46385011]\n",
      " [-1.41505511]\n",
      " [-1.3662601 ]\n",
      " [-1.3174651 ]\n",
      " [-1.26867009]\n",
      " [-1.21987509]\n",
      " [-1.17108009]\n",
      " [-1.12228508]\n",
      " [-1.07349008]\n",
      " [-1.02469508]\n",
      " [-0.97590007]\n",
      " [-0.92710507]\n",
      " [-0.87831007]\n",
      " [-0.82951506]\n",
      " [-0.78072006]\n",
      " [-0.73192505]\n",
      " [-0.68313005]\n",
      " [-0.63433505]\n",
      " [-0.58554004]\n",
      " [-0.53674504]\n",
      " [-0.48795004]\n",
      " [-0.43915503]\n",
      " [-0.39036003]\n",
      " [-0.34156503]\n",
      " [-0.29277002]\n",
      " [-0.24397502]\n",
      " [-0.19518001]\n",
      " [-0.14638501]\n",
      " [-0.09759001]\n",
      " [-0.048795  ]\n",
      " [ 0.        ]\n",
      " [ 0.048795  ]\n",
      " [ 0.09759001]\n",
      " [ 0.14638501]\n",
      " [ 0.19518001]\n",
      " [ 0.24397502]\n",
      " [ 0.29277002]\n",
      " [ 0.34156503]\n",
      " [ 0.39036003]\n",
      " [ 0.43915503]\n",
      " [ 0.48795004]\n",
      " [ 0.53674504]\n",
      " [ 0.58554004]\n",
      " [ 0.63433505]\n",
      " [ 0.68313005]\n",
      " [ 0.73192505]\n",
      " [ 0.78072006]\n",
      " [ 0.82951506]\n",
      " [ 0.87831007]\n",
      " [ 0.92710507]\n",
      " [ 0.97590007]\n",
      " [ 1.02469508]\n",
      " [ 1.07349008]\n",
      " [ 1.12228508]\n",
      " [ 1.17108009]\n",
      " [ 1.21987509]\n",
      " [ 1.26867009]\n",
      " [ 1.3174651 ]\n",
      " [ 1.3662601 ]\n",
      " [ 1.41505511]\n",
      " [ 1.46385011]\n",
      " [ 1.51264511]\n",
      " [ 1.56144012]\n",
      " [ 1.61023512]\n",
      " [ 1.65903012]\n",
      " [ 1.70782513]]\n"
     ]
    }
   ],
   "source": [
    "print(x)"
   ]
  },
  {
   "cell_type": "code",
   "execution_count": 429,
   "metadata": {},
   "outputs": [
    {
     "name": "stdout",
     "output_type": "stream",
     "text": [
      "[[-1.10522232]\n",
      " [-1.10522232]\n",
      " [-1.10522232]\n",
      " [-1.05690287]\n",
      " [-1.05690287]\n",
      " [-1.05690287]\n",
      " [-1.00858342]\n",
      " [-1.00858342]\n",
      " [-1.00858342]\n",
      " [-0.96026397]\n",
      " [-0.96026397]\n",
      " [-0.96026397]\n",
      " [-0.91194452]\n",
      " [-0.91194452]\n",
      " [-0.91194452]\n",
      " [-0.86362507]\n",
      " [-0.86362507]\n",
      " [-0.86362507]\n",
      " [-0.81530563]\n",
      " [-0.81530563]\n",
      " [-0.76698618]\n",
      " [-0.76698618]\n",
      " [-0.71866673]\n",
      " [-0.71866673]\n",
      " [-0.67034728]\n",
      " [-0.67034728]\n",
      " [-0.62202783]\n",
      " [-0.62202783]\n",
      " [-0.57370838]\n",
      " [-0.57370838]\n",
      " [-0.52538893]\n",
      " [-0.52538893]\n",
      " [-0.47706949]\n",
      " [-0.42875004]\n",
      " [-0.38043059]\n",
      " [-0.28379169]\n",
      " [-0.23547224]\n",
      " [-0.18715279]\n",
      " [-0.13883335]\n",
      " [-0.0905139 ]\n",
      " [-0.04219445]\n",
      " [ 0.006125  ]\n",
      " [ 0.05444445]\n",
      " [ 0.1027639 ]\n",
      " [ 0.15108335]\n",
      " [ 0.15108335]\n",
      " [ 0.1994028 ]\n",
      " [ 0.24772224]\n",
      " [ 0.29604169]\n",
      " [ 0.34436114]\n",
      " [ 0.39268059]\n",
      " [ 0.44100004]\n",
      " [ 0.48931949]\n",
      " [ 0.53763894]\n",
      " [ 0.58595838]\n",
      " [ 0.68259728]\n",
      " [ 0.82755563]\n",
      " [ 0.92419452]\n",
      " [ 1.06915287]\n",
      " [ 1.16579177]\n",
      " [ 1.31075011]\n",
      " [ 1.40738901]\n",
      " [ 1.55234736]\n",
      " [ 1.64898625]\n",
      " [ 1.84226405]\n",
      " [ 2.03554184]\n",
      " [ 2.08386129]\n",
      " [ 2.13218074]\n",
      " [ 2.18050019]\n",
      " [ 2.22881964]\n",
      " [ 2.27713909]]\n"
     ]
    }
   ],
   "source": [
    "print(y)"
   ]
  },
  {
   "cell_type": "markdown",
   "metadata": {},
   "source": [
    "Training model"
   ]
  },
  {
   "cell_type": "code",
   "execution_count": 430,
   "metadata": {},
   "outputs": [
    {
     "name": "stderr",
     "output_type": "stream",
     "text": [
      "/home/emma/.local/lib/python3.8/site-packages/sklearn/utils/validation.py:993: DataConversionWarning: A column-vector y was passed when a 1d array was expected. Please change the shape of y to (n_samples, ), for example using ravel().\n",
      "  y = column_or_1d(y, warn=True)\n"
     ]
    },
    {
     "data": {
      "text/plain": [
       "SVR()"
      ]
     },
     "execution_count": 430,
     "metadata": {},
     "output_type": "execute_result"
    }
   ],
   "source": [
    "# kernel rbf: it is a gaussian kernel\n",
    "regressor = SVR(kernel='rbf')\n",
    "regressor.fit(x,y)"
   ]
  },
  {
   "cell_type": "markdown",
   "metadata": {},
   "source": [
    "Predicting the test set result"
   ]
  },
  {
   "cell_type": "code",
   "execution_count": 431,
   "metadata": {},
   "outputs": [],
   "source": [
    "# this will reutnr the predicted points for the input level\n",
    "# but the result will be scaled format on which y(dependent)\n",
    "yPrediction = regressor.predict(standardscaler_x.transform([[40]]))"
   ]
  },
  {
   "cell_type": "code",
   "execution_count": 432,
   "metadata": {},
   "outputs": [
    {
     "data": {
      "text/plain": [
       "array([-0.44322788])"
      ]
     },
     "execution_count": 432,
     "metadata": {},
     "output_type": "execute_result"
    }
   ],
   "source": [
    "yPrediction"
   ]
  },
  {
   "cell_type": "code",
   "execution_count": 433,
   "metadata": {},
   "outputs": [],
   "source": [
    "yPrediction = standardscaler_y.inverse_transform(yPrediction.reshape(-1,1))"
   ]
  },
  {
   "cell_type": "code",
   "execution_count": 434,
   "metadata": {},
   "outputs": [
    {
     "data": {
      "text/plain": [
       "array([[151.70037229]])"
      ]
     },
     "execution_count": 434,
     "metadata": {},
     "output_type": "execute_result"
    }
   ],
   "source": [
    "yPrediction"
   ]
  },
  {
   "cell_type": "markdown",
   "metadata": {},
   "source": [
    "Visualising SVR results"
   ]
  },
  {
   "cell_type": "code",
   "execution_count": 438,
   "metadata": {},
   "outputs": [
    {
     "data": {
      "image/png": "[encoded data removed]",
      "text/plain": [
       "<Figure size 432x288 with 1 Axes>"
      ]
     },
     "metadata": {
      "needs_background": "light"
     },
     "output_type": "display_data"
    }
   ],
   "source": [
    "# apply inverse_transform to get the original scale\n",
    "plt.scatter(standardscaler_x.inverse_transform(x), standardscaler_y.inverse_transform(y)) \n",
    "\n",
    "# the predicted points x\n",
    "#plt.plot(standardscaler_x.inverse_transform(x), standardscaler_y.inverse_transform(regressor.predict(x)), color='red')  # plotting the regression line\n",
    "\n",
    "plt.title('Age vs Height SVR')\n",
    "plt.xlabel('Age')\n",
    "plt.ylabel('Height')\n",
    "plt.show()"
   ]
  }
 ],
 "metadata": {
  "interpreter": {
   "hash": "31f2aee4e71d21fbe5cf8b01ff0e069b9275f58929596ceb00d14d90e3e16cd6"
  },
  "kernelspec": {
   "display_name": "Python 3.8.10 64-bit",
   "language": "python",
   "name": "python3"
  },
  "language_info": {
   "codemirror_mode": {
    "name": "ipython",
    "version": 3
   },
   "file_extension": ".py",
   "mimetype": "text/x-python",
   "name": "python",
   "nbconvert_exporter": "python",
   "pygments_lexer": "ipython3",
   "version": "3.8.10"
  },
  "orig_nbformat": 4
 },
 "nbformat": 4,
 "nbformat_minor": 2
}
