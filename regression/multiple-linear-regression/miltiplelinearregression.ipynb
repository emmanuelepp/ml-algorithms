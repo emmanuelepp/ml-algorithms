{
 "cells": [
  {
   "cell_type": "markdown",
   "metadata": {},
   "source": [
    "Data Processing"
   ]
  },
  {
   "cell_type": "code",
   "execution_count": 25,
   "metadata": {},
   "outputs": [],
   "source": [
    "#Importing libraries\n",
    "import numpy as np\n",
    "import matplotlib.pyplot as plt\n",
    "import pandas as pd\n",
    "\n",
    "from sklearn.compose import ColumnTransformer\n",
    "from sklearn.preprocessing import OneHotEncoder\n",
    "from sklearn.model_selection import train_test_split\n",
    "from sklearn.linear_model import LinearRegression\n"
   ]
  },
  {
   "cell_type": "code",
   "execution_count": 26,
   "metadata": {},
   "outputs": [],
   "source": [
    "#Importing dataset\n",
    "dataset = pd.read_csv(\"restaurant_profit.csv\")"
   ]
  },
  {
   "cell_type": "code",
   "execution_count": 27,
   "metadata": {},
   "outputs": [
    {
     "data": {
      "text/html": [
       "<div>\n",
       "<style scoped>\n",
       "    .dataframe tbody tr th:only-of-type {\n",
       "        vertical-align: middle;\n",
       "    }\n",
       "\n",
       "    .dataframe tbody tr th {\n",
       "        vertical-align: top;\n",
       "    }\n",
       "\n",
       "    .dataframe thead th {\n",
       "        text-align: right;\n",
       "    }\n",
       "</style>\n",
       "<table border=\"1\" class=\"dataframe\">\n",
       "  <thead>\n",
       "    <tr style=\"text-align: right;\">\n",
       "      <th></th>\n",
       "      <th>Miscellaneous Expenses</th>\n",
       "      <th>Food Innovation</th>\n",
       "      <th>Advertisement</th>\n",
       "      <th>City</th>\n",
       "      <th>Profit</th>\n",
       "    </tr>\n",
       "  </thead>\n",
       "  <tbody>\n",
       "    <tr>\n",
       "      <th>0</th>\n",
       "      <td>138671.80</td>\n",
       "      <td>167497.20</td>\n",
       "      <td>475918.10</td>\n",
       "      <td>Chicago</td>\n",
       "      <td>202443.83</td>\n",
       "    </tr>\n",
       "    <tr>\n",
       "      <th>1</th>\n",
       "      <td>153151.59</td>\n",
       "      <td>164745.70</td>\n",
       "      <td>448032.53</td>\n",
       "      <td>Mumbai</td>\n",
       "      <td>201974.06</td>\n",
       "    </tr>\n",
       "    <tr>\n",
       "      <th>2</th>\n",
       "      <td>102919.55</td>\n",
       "      <td>155589.51</td>\n",
       "      <td>412068.54</td>\n",
       "      <td>Tokyo</td>\n",
       "      <td>201232.39</td>\n",
       "    </tr>\n",
       "    <tr>\n",
       "      <th>3</th>\n",
       "      <td>120445.85</td>\n",
       "      <td>146520.41</td>\n",
       "      <td>387333.62</td>\n",
       "      <td>Chicago</td>\n",
       "      <td>193083.99</td>\n",
       "    </tr>\n",
       "    <tr>\n",
       "      <th>4</th>\n",
       "      <td>93165.77</td>\n",
       "      <td>144255.34</td>\n",
       "      <td>370302.42</td>\n",
       "      <td>Tokyo</td>\n",
       "      <td>176369.94</td>\n",
       "    </tr>\n",
       "  </tbody>\n",
       "</table>\n",
       "</div>"
      ],
      "text/plain": [
       "   Miscellaneous Expenses  Food Innovation  Advertisement     City     Profit\n",
       "0               138671.80        167497.20      475918.10  Chicago  202443.83\n",
       "1               153151.59        164745.70      448032.53   Mumbai  201974.06\n",
       "2               102919.55        155589.51      412068.54    Tokyo  201232.39\n",
       "3               120445.85        146520.41      387333.62  Chicago  193083.99\n",
       "4                93165.77        144255.34      370302.42    Tokyo  176369.94"
      ]
     },
     "execution_count": 27,
     "metadata": {},
     "output_type": "execute_result"
    }
   ],
   "source": [
    "dataset.head()"
   ]
  },
  {
   "cell_type": "code",
   "execution_count": 28,
   "metadata": {},
   "outputs": [],
   "source": [
    "x = dataset.iloc[: , 0:-1].values"
   ]
  },
  {
   "cell_type": "code",
   "execution_count": 29,
   "metadata": {},
   "outputs": [],
   "source": [
    "y = dataset.iloc[: , -1].values"
   ]
  },
  {
   "cell_type": "markdown",
   "metadata": {},
   "source": [
    "Encoding categorical data"
   ]
  },
  {
   "cell_type": "code",
   "execution_count": 30,
   "metadata": {},
   "outputs": [],
   "source": [
    "columnT = ColumnTransformer(transformers=[('encoder', OneHotEncoder(), [3])], remainder='passthrough')\n",
    "x = np.array(columnT.fit_transform(x))"
   ]
  },
  {
   "cell_type": "code",
   "execution_count": 31,
   "metadata": {},
   "outputs": [
    {
     "data": {
      "text/plain": [
       "array([[1.0, 0.0, 0.0, 138671.8, 167497.2, 475918.1],\n",
       "       [0.0, 1.0, 0.0, 153151.59, 164745.7, 448032.53],\n",
       "       [0.0, 0.0, 1.0, 102919.55, 155589.51, 412068.54],\n",
       "       [1.0, 0.0, 0.0, 120445.85, 146520.41, 387333.62],\n",
       "       [0.0, 0.0, 1.0, 93165.77, 144255.34, 370302.42],\n",
       "       [1.0, 0.0, 0.0, 101588.71, 134024.9, 366995.36],\n",
       "       [0.0, 1.0, 0.0, 148972.87, 136763.46, 131850.82],\n",
       "       [0.0, 0.0, 1.0, 147304.06, 132446.13, 328010.68],\n",
       "       [1.0, 0.0, 0.0, 150492.95, 122690.52, 315747.29],\n",
       "       [0.0, 1.0, 0.0, 110453.17, 125482.88, 309115.62],\n",
       "       [0.0, 0.0, 1.0, 112368.11, 104061.08, 233294.95],\n",
       "       [0.0, 1.0, 0.0, 93564.61, 102819.96, 253878.55],\n",
       "       [0.0, 0.0, 1.0, 129094.38, 96011.75, 253973.44],\n",
       "       [0.0, 1.0, 0.0, 137269.07, 94140.39, 256798.93],\n",
       "       [0.0, 0.0, 1.0, 158321.42, 122091.24, 260646.92],\n",
       "       [1.0, 0.0, 0.0, 124390.84, 116671.61, 265910.23],\n",
       "       [0.0, 1.0, 0.0, 123371.55, 80161.11, 268480.06],\n",
       "       [1.0, 0.0, 0.0, 146851.58, 96805.16, 286708.31],\n",
       "       [0.0, 0.0, 1.0, 115949.79, 93897.16, 299053.57],\n",
       "       [1.0, 0.0, 0.0, 155288.11, 88567.7, 4134.0],\n",
       "       [0.0, 1.0, 0.0, 115641.3, 78401.86, 302798.47],\n",
       "       [1.0, 0.0, 0.0, 155547.43, 80537.47, 303871.29],\n",
       "       [0.0, 0.0, 1.0, 124556.75, 76142.56, 307453.26],\n",
       "       [0.0, 0.0, 1.0, 107525.03, 69680.53, 308902.73],\n",
       "       [1.0, 0.0, 0.0, 101055.34, 79192.01, 144708.81],\n",
       "       [0.0, 1.0, 0.0, 141327.16, 66812.71, 142096.62],\n",
       "       [0.0, 0.0, 1.0, 145909.98, 77476.87, 138184.07],\n",
       "       [1.0, 0.0, 0.0, 129638.55, 74255.6, 357317.81],\n",
       "       [0.0, 0.0, 1.0, 184419.56, 68199.52, 122282.2],\n",
       "       [1.0, 0.0, 0.0, 154806.06, 67753.48, 111272.38],\n",
       "       [0.0, 0.0, 1.0, 117415.28, 64142.48, 95265.24],\n",
       "       [1.0, 0.0, 0.0, 154475.92, 63284.38, 92352.23],\n",
       "       [0.0, 1.0, 0.0, 130993.61, 65556.86, 50219.25],\n",
       "       [0.0, 0.0, 1.0, 104831.49, 57641.95, 218768.81],\n",
       "       [0.0, 1.0, 0.0, 159467.92, 48574.07, 214931.67],\n",
       "       [1.0, 0.0, 0.0, 86821.44, 48162.02, 209651.64],\n",
       "       [0.0, 0.0, 1.0, 128830.21, 30811.76, 205260.82],\n",
       "       [0.0, 1.0, 0.0, 53057.14, 46217.95, 201163.42],\n",
       "       [1.0, 0.0, 0.0, 67721.93, 22377.59, 189399.1],\n",
       "       [0.0, 1.0, 0.0, 84756.09, 40706.51, 179133.3],\n",
       "       [0.0, 1.0, 0.0, 120320.05, 30902.33, 176929.67],\n",
       "       [0.0, 0.0, 1.0, 86484.77, 30040.92, 168604.71],\n",
       "       [0.0, 1.0, 0.0, 97963.63, 25788.93, 152135.11],\n",
       "       [1.0, 0.0, 0.0, 129156.3, 17653.73, 39668.17],\n",
       "       [0.0, 1.0, 0.0, 156580.14, 24325.74, 32468.72],\n",
       "       [1.0, 0.0, 0.0, 125927.04, 3148.23, 6037.93],\n",
       "       [0.0, 0.0, 1.0, 117590.21, 3463.46, 301248.46],\n",
       "       [0.0, 1.0, 0.0, 137200.92, 2148.0, 4134.0],\n",
       "       [1.0, 0.0, 0.0, 53517.15, 2690.05, 4134.0],\n",
       "       [0.0, 1.0, 0.0, 118757.8, 2148.0, 49307.06]], dtype=object)"
      ]
     },
     "execution_count": 31,
     "metadata": {},
     "output_type": "execute_result"
    }
   ],
   "source": [
    "x"
   ]
  },
  {
   "cell_type": "markdown",
   "metadata": {},
   "source": [
    "Splitting the dataset"
   ]
  },
  {
   "cell_type": "code",
   "execution_count": 32,
   "metadata": {},
   "outputs": [],
   "source": [
    "x_train, x_test, y_train, y_test = train_test_split(x, y, test_size = 0.2, random_state = 0)"
   ]
  },
  {
   "cell_type": "markdown",
   "metadata": {},
   "source": [
    "Training the model"
   ]
  },
  {
   "cell_type": "code",
   "execution_count": 33,
   "metadata": {},
   "outputs": [],
   "source": [
    "linearR = LinearRegression()"
   ]
  },
  {
   "cell_type": "code",
   "execution_count": 34,
   "metadata": {},
   "outputs": [
    {
     "data": {
      "text/plain": [
       "LinearRegression()"
      ]
     },
     "execution_count": 34,
     "metadata": {},
     "output_type": "execute_result"
    }
   ],
   "source": [
    "linearR.fit(x_train, y_train)"
   ]
  },
  {
   "cell_type": "markdown",
   "metadata": {},
   "source": [
    "Predicting the test set results"
   ]
  },
  {
   "cell_type": "code",
   "execution_count": 35,
   "metadata": {},
   "outputs": [],
   "source": [
    "yPrediction = linearR.predict(x_test)"
   ]
  },
  {
   "cell_type": "code",
   "execution_count": 36,
   "metadata": {},
   "outputs": [
    {
     "data": {
      "text/plain": [
       "array([113197.20159798, 142764.27760812, 142629.73845172,  82158.09851261,\n",
       "       188719.48221047, 126343.24230165,  78033.6920968 , 108973.7337469 ,\n",
       "       124151.43533011, 178103.06569543])"
      ]
     },
     "execution_count": 36,
     "metadata": {},
     "output_type": "execute_result"
    }
   ],
   "source": [
    "yPrediction"
   ]
  },
  {
   "cell_type": "code",
   "execution_count": 37,
   "metadata": {},
   "outputs": [
    {
     "data": {
      "text/plain": [
       "array([113464.38, 154441.4 , 156303.95,  87980.83, 201232.39, 115190.31,\n",
       "        91411.06, 107665.56, 120534.25, 176369.94])"
      ]
     },
     "execution_count": 37,
     "metadata": {},
     "output_type": "execute_result"
    }
   ],
   "source": [
    "y_test"
   ]
  },
  {
   "cell_type": "code",
   "execution_count": 38,
   "metadata": {},
   "outputs": [
    {
     "name": "stdout",
     "output_type": "stream",
     "text": [
      "    y_actual    yPrediction\n",
      "0  113464.38  113197.201598\n",
      "1  154441.40  142764.277608\n",
      "2  156303.95  142629.738452\n",
      "3   87980.83   82158.098513\n",
      "4  201232.39  188719.482210\n",
      "5  115190.31  126343.242302\n",
      "6   91411.06   78033.692097\n",
      "7  107665.56  108973.733747\n",
      "8  120534.25  124151.435330\n",
      "9  176369.94  178103.065695\n"
     ]
    }
   ],
   "source": [
    "df = pd.DataFrame()\n",
    "df[\"y_actual\"] = y_test \n",
    "df[\"yPrediction\"] = yPrediction\n",
    "print(df)"
   ]
  }
 ],
 "metadata": {
  "interpreter": {
   "hash": "31f2aee4e71d21fbe5cf8b01ff0e069b9275f58929596ceb00d14d90e3e16cd6"
  },
  "kernelspec": {
   "display_name": "Python 3.8.10 64-bit",
   "language": "python",
   "name": "python3"
  },
  "language_info": {
   "codemirror_mode": {
    "name": "ipython",
    "version": 3
   },
   "file_extension": ".py",
   "mimetype": "text/x-python",
   "name": "python",
   "nbconvert_exporter": "python",
   "pygments_lexer": "ipython3",
   "version": "3.8.10"
  },
  "orig_nbformat": 4
 },
 "nbformat": 4,
 "nbformat_minor": 2
}
